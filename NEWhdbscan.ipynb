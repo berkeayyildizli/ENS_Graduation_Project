{
 "cells": [
  {
   "cell_type": "code",
   "execution_count": 3,
   "id": "744c1dae",
   "metadata": {},
   "outputs": [
    {
     "name": "stdout",
     "output_type": "stream",
     "text": [
      "/Users/berkeayyildizli/ENS_Graduation_Project/.venv/bin/python\n"
     ]
    }
   ],
   "source": [
    "import sys\n",
    "print(sys.executable)"
   ]
  },
  {
   "cell_type": "code",
   "execution_count": 4,
   "id": "ada25a2a",
   "metadata": {},
   "outputs": [
    {
     "ename": "AttributeError",
     "evalue": "module 'hdbscan' has no attribute '__version__'",
     "output_type": "error",
     "traceback": [
      "\u001b[0;31m---------------------------------------------------------------------------\u001b[0m",
      "\u001b[0;31mAttributeError\u001b[0m                            Traceback (most recent call last)",
      "Cell \u001b[0;32mIn[4], line 2\u001b[0m\n\u001b[1;32m      1\u001b[0m \u001b[38;5;28;01mimport\u001b[39;00m\u001b[38;5;250m \u001b[39m\u001b[38;5;21;01mhdbscan\u001b[39;00m\n\u001b[0;32m----> 2\u001b[0m \u001b[38;5;28mprint\u001b[39m(\u001b[43mhdbscan\u001b[49m\u001b[38;5;241;43m.\u001b[39;49m\u001b[43m__version__\u001b[49m)\n",
      "\u001b[0;31mAttributeError\u001b[0m: module 'hdbscan' has no attribute '__version__'"
     ]
    }
   ],
   "source": [
    "import hdbscan\n",
    "print(hdbscan.__version__)"
   ]
  },
  {
   "cell_type": "code",
   "execution_count": 5,
   "id": "9befa046",
   "metadata": {},
   "outputs": [
    {
     "name": "stdout",
     "output_type": "stream",
     "text": [
      "✅ HDBSCAN Evaluation Results:\n",
      "Accuracy: 0.9559\n",
      "F1 Score: 0.4964\n",
      "Confusion Matrix:\n",
      "[[1461   32]\n",
      " [  37   34]]\n",
      "Classification Report:\n",
      "              precision    recall  f1-score   support\n",
      "\n",
      "           0       0.98      0.98      0.98      1493\n",
      "           1       0.52      0.48      0.50        71\n",
      "\n",
      "    accuracy                           0.96      1564\n",
      "   macro avg       0.75      0.73      0.74      1564\n",
      "weighted avg       0.95      0.96      0.96      1564\n",
      "\n"
     ]
    },
    {
     "name": "stderr",
     "output_type": "stream",
     "text": [
      "/Users/berkeayyildizli/ENS_Graduation_Project/.venv/lib/python3.10/site-packages/sklearn/utils/deprecation.py:151: FutureWarning: 'force_all_finite' was renamed to 'ensure_all_finite' in 1.6 and will be removed in 1.8.\n",
      "  warnings.warn(\n",
      "/Users/berkeayyildizli/ENS_Graduation_Project/.venv/lib/python3.10/site-packages/sklearn/utils/deprecation.py:151: FutureWarning: 'force_all_finite' was renamed to 'ensure_all_finite' in 1.6 and will be removed in 1.8.\n",
      "  warnings.warn(\n"
     ]
    }
   ],
   "source": [
    "import pandas as pd\n",
    "import numpy as np\n",
    "import hdbscan\n",
    "from sklearn.metrics import classification_report, confusion_matrix, accuracy_score, f1_score\n",
    "from sklearn.preprocessing import MinMaxScaler\n",
    "\n",
    "# === Step 1: Load Dataset ===\n",
    "df = pd.read_csv(\"labeled_thermal_features.csv\")\n",
    "\n",
    "# === Step 2: Select Top 5 Important Features ===\n",
    "top_features = [\"IQR\", \"Std_Temp\", \"Q1\", \"Min_Temp\", \"Median_Temp\"]\n",
    "X = df[top_features]\n",
    "y = df[\"Porosity Label\"]\n",
    "\n",
    "# Normalize the features (optional but helps HDBSCAN)\n",
    "scaler = MinMaxScaler()\n",
    "X_scaled = scaler.fit_transform(X)\n",
    "\n",
    "# === Step 3: Apply HDBSCAN ===\n",
    "clusterer = hdbscan.HDBSCAN(min_cluster_size=5, prediction_data=True)\n",
    "labels = clusterer.fit_predict(X_scaled)\n",
    "\n",
    "# Convert -1 labels to anomaly (1), others to normal (0)\n",
    "anomaly_predictions = (labels == -1).astype(int)\n",
    "\n",
    "# === Step 4: Evaluate Performance ===\n",
    "accuracy = accuracy_score(y, anomaly_predictions)\n",
    "f1 = f1_score(y, anomaly_predictions)\n",
    "conf_matrix = confusion_matrix(y, anomaly_predictions)\n",
    "class_report = classification_report(y, anomaly_predictions)\n",
    "\n",
    "print(\"✅ HDBSCAN Evaluation Results:\")\n",
    "print(f\"Accuracy: {accuracy:.4f}\")\n",
    "print(f\"F1 Score: {f1:.4f}\")\n",
    "print(\"Confusion Matrix:\")\n",
    "print(conf_matrix)\n",
    "print(\"Classification Report:\")\n",
    "print(class_report)\n"
   ]
  }
 ],
 "metadata": {
  "kernelspec": {
   "display_name": ".venv",
   "language": "python",
   "name": "python3"
  },
  "language_info": {
   "codemirror_mode": {
    "name": "ipython",
    "version": 3
   },
   "file_extension": ".py",
   "mimetype": "text/x-python",
   "name": "python",
   "nbconvert_exporter": "python",
   "pygments_lexer": "ipython3",
   "version": "3.10.16"
  }
 },
 "nbformat": 4,
 "nbformat_minor": 5
}
