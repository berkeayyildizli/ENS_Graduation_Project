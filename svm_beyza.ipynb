{
 "cells": [
  {
   "cell_type": "code",
   "execution_count": 1,
   "metadata": {},
   "outputs": [
    {
     "name": "stdout",
     "output_type": "stream",
     "text": [
      "Evaluation on labeled data:\n",
      "[[1416   77]\n",
      " [   2   69]]\n",
      "              precision    recall  f1-score   support\n",
      "\n",
      "           0       1.00      0.95      0.97      1493\n",
      "           1       0.47      0.97      0.64        71\n",
      "\n",
      "    accuracy                           0.95      1564\n",
      "   macro avg       0.74      0.96      0.80      1564\n",
      "weighted avg       0.97      0.95      0.96      1564\n",
      "\n",
      "Accuracy: 0.9494884910485933\n",
      "SVM predictions saved to svm_unlabeled_predictions.csv\n"
     ]
    }
   ],
   "source": [
    "import pandas as pd\n",
    "import numpy as np\n",
    "from sklearn.svm import OneClassSVM\n",
    "from sklearn.preprocessing import StandardScaler\n",
    "from sklearn.metrics import classification_report, confusion_matrix, accuracy_score\n",
    "\n",
    "# === Load datasets ===\n",
    "labeled_df = pd.read_csv('labeled_thermal_features.csv')\n",
    "unlabeled_df = pd.read_csv('thermal_frame_features.csv')\n",
    "\n",
    "# === Features to use (drop labels, frame info) ===\n",
    "feature_cols = [col for col in labeled_df.columns if col not in ['Frame', 'Porosity Label']]\n",
    "X_labeled = labeled_df[feature_cols]\n",
    "y_labeled = labeled_df['Porosity Label']\n",
    "\n",
    "X_unlabeled = unlabeled_df[feature_cols]\n",
    "\n",
    "# === Normalize the data ===\n",
    "scaler = StandardScaler()\n",
    "X_labeled_scaled = scaler.fit_transform(X_labeled)\n",
    "X_unlabeled_scaled = scaler.transform(X_unlabeled)\n",
    "\n",
    "# === Train One-Class SVM on NORMAL data (label 0 only) ===\n",
    "X_train = X_labeled_scaled[y_labeled == 0]\n",
    "oc_svm = OneClassSVM(kernel='rbf', gamma='auto', nu=0.05)  # nu is roughly the % of outliers\n",
    "oc_svm.fit(X_train)\n",
    "\n",
    "# === Predict anomalies on ALL data ===\n",
    "# Returns: 1 for normal, -1 for anomaly → we convert to 0 (normal), 1 (anomaly)\n",
    "pred_labeled = oc_svm.predict(X_labeled_scaled)\n",
    "pred_unlabeled = oc_svm.predict(X_unlabeled_scaled)\n",
    "\n",
    "pred_labeled = np.where(pred_labeled == -1, 1, 0)\n",
    "pred_unlabeled = np.where(pred_unlabeled == -1, 1, 0)\n",
    "\n",
    "# === Evaluate predictions on labeled set ===\n",
    "print(\"Evaluation on labeled data:\")\n",
    "print(confusion_matrix(y_labeled, pred_labeled))\n",
    "print(classification_report(y_labeled, pred_labeled))\n",
    "print(\"Accuracy:\", accuracy_score(y_labeled, pred_labeled))\n",
    "\n",
    "# === Save predictions for unlabeled data ===\n",
    "unlabeled_df['SVM_Anomaly'] = pred_unlabeled\n",
    "unlabeled_df.to_csv('svm_unlabeled_predictions.csv', index=False)\n",
    "print(\"SVM predictions saved to svm_unlabeled_predictions.csv\")\n"
   ]
  }
 ],
 "metadata": {
  "kernelspec": {
   "display_name": "Python 3",
   "language": "python",
   "name": "python3"
  },
  "language_info": {
   "codemirror_mode": {
    "name": "ipython",
    "version": 3
   },
   "file_extension": ".py",
   "mimetype": "text/x-python",
   "name": "python",
   "nbconvert_exporter": "python",
   "pygments_lexer": "ipython3",
   "version": "3.11.7"
  }
 },
 "nbformat": 4,
 "nbformat_minor": 2
}
