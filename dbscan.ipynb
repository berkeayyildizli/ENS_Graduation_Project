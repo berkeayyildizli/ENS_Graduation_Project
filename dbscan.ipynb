{
 "cells": [
  {
   "cell_type": "code",
   "execution_count": 1,
   "metadata": {},
   "outputs": [],
   "source": [
    "import os\n",
    "import pandas as pd\n",
    "import numpy as np\n",
    "from sklearn.preprocessing import MinMaxScaler\n",
    "from sklearn.cluster import DBSCAN\n",
    "from sklearn.metrics import accuracy_score, classification_report, confusion_matrix\n",
    "from sklearn.impute import SimpleImputer\n",
    "from sklearn.decomposition import PCA\n",
    "from sklearn.neighbors import NearestNeighbors\n",
    "import matplotlib.pyplot as plt"
   ]
  },
  {
   "cell_type": "code",
   "execution_count": 2,
   "metadata": {},
   "outputs": [
    {
     "name": "stderr",
     "output_type": "stream",
     "text": [
      "/Users/berkeayyildizli/ENS_Graduation_Project/.venv/lib/python3.10/site-packages/sklearn/impute/_base.py:635: UserWarning: Skipping features without any observed values: [  0   1 202]. At least one non-missing value is needed for imputation with strategy='mean'.\n",
      "  warnings.warn(\n"
     ]
    }
   ],
   "source": [
    "# Path to frame directory (update as needed)\n",
    "frames_dir = 'data/images'\n",
    "\n",
    "# Load all available frames with .csv extension\n",
    "frame_files = sorted([f for f in os.listdir(frames_dir) if f.startswith('Frame_') and f.endswith('.csv')])\n",
    "\n",
    "# Initialize data structure\n",
    "all_data = []\n",
    "\n",
    "# Load frame data into memory\n",
    "for file_name in frame_files:\n",
    "    file_path = os.path.join(frames_dir, file_name)\n",
    "    frame_data = pd.read_csv(file_path, header=None)\n",
    "    all_data.append(frame_data.values)\n",
    "\n",
    "# Flatten and convert data for model training\n",
    "all_data = np.array(all_data).reshape(len(all_data), -1)  # Flatten each frame\n",
    "\n",
    "# Treat 0s as missing values by replacing them with NaN\n",
    "all_data[all_data == 0] = np.nan\n",
    "\n",
    "# Use mean imputation to replace NaNs with the column-wise mean\n",
    "imputer = SimpleImputer(strategy=\"mean\")\n",
    "all_data = imputer.fit_transform(all_data)\n",
    "\n",
    "# Normalize data\n",
    "scaler = MinMaxScaler()\n",
    "all_data = scaler.fit_transform(all_data)\n",
    "\n"
   ]
  },
  {
   "cell_type": "code",
   "execution_count": 3,
   "metadata": {},
   "outputs": [
    {
     "name": "stdout",
     "output_type": "stream",
     "text": [
      "Reduced data shape (after PCA): (1564, 50)\n"
     ]
    },
    {
     "data": {
      "image/png": "[encoded data removed]",
      "text/plain": [
       "<Figure size 800x500 with 1 Axes>"
      ]
     },
     "metadata": {},
     "output_type": "display_data"
    },
    {
     "name": "stdout",
     "output_type": "stream",
     "text": [
      "DBSCAN clustering completed. Anomalies detected: 71\n"
     ]
    }
   ],
   "source": [
    "# **Step 2: Reduce Dimensionality with PCA (Important for DBSCAN)**\n",
    "pca = PCA(n_components=50)  # Reduce 40,000+ dimensions to 50\n",
    "all_data_pca = pca.fit_transform(all_data)\n",
    "print(f\"Reduced data shape (after PCA): {all_data_pca.shape}\")\n",
    "\n",
    "# **Step 3: Find the Optimal eps using K-Nearest Neighbors**\n",
    "neigh = NearestNeighbors(n_neighbors=5, metric=\"euclidean\")\n",
    "neigh.fit(all_data_pca)\n",
    "distances, indices = neigh.kneighbors(all_data_pca)\n",
    "\n",
    "# Sort the 5th neighbor distances (DBSCAN heuristic)\n",
    "sorted_distances = np.sort(distances[:, -1])\n",
    "\n",
    "# Plot the K-distance graph\n",
    "plt.figure(figsize=(8, 5))\n",
    "plt.plot(sorted_distances)\n",
    "plt.xlabel(\"Sorted Data Points\")\n",
    "plt.ylabel(\"5th Neighbor Distance\")\n",
    "plt.title(\"K-Distance Graph (Choose Optimal eps)\")\n",
    "plt.show()\n",
    "\n",
    "# **Step 4: Apply DBSCAN with Optimized Parameters**\n",
    "eps_value = 7.7  # Based on the elbow point in the graph\n",
    "min_samples_value = 5  # Keep this low to allow small clusters\n",
    "\n",
    "dbscan = DBSCAN(eps=eps_value, min_samples=min_samples_value, metric=\"euclidean\")\n",
    "labels = dbscan.fit_predict(all_data_pca)\n",
    "\n",
    "# Mark anomalies (DBSCAN labels noise as -1)\n",
    "anomaly_predictions = (labels == -1).astype(int)\n",
    "\n",
    "# Store results in a DataFrame\n",
    "dbscan_results = pd.DataFrame({\"Frame\": frame_files, \"Anomaly\": anomaly_predictions})\n",
    "dbscan_results.to_csv(\"dbscan_results.csv\", index=False)\n",
    "print(f\"DBSCAN clustering completed. Anomalies detected: {np.sum(anomaly_predictions)}\")"
   ]
  },
  {
   "cell_type": "code",
   "execution_count": 4,
   "metadata": {},
   "outputs": [
    {
     "name": "stdout",
     "output_type": "stream",
     "text": [
      "\n",
      "DBSCAN Evaluation:\n",
      "Accuracy: 0.96\n",
      "Confusion Matrix:\n",
      "[[1461   32]\n",
      " [  32   39]]\n",
      "Classification Report:\n",
      "              precision    recall  f1-score   support\n",
      "\n",
      "           0       0.98      0.98      0.98      1493\n",
      "           1       0.55      0.55      0.55        71\n",
      "\n",
      "    accuracy                           0.96      1564\n",
      "   macro avg       0.76      0.76      0.76      1564\n",
      "weighted avg       0.96      0.96      0.96      1564\n",
      "\n"
     ]
    }
   ],
   "source": [
    "# **Optional: Evaluation if ground truth labels are available**\n",
    "labels_path = 'data/frame_porosity_labels.csv'\n",
    "if os.path.exists(labels_path):\n",
    "    labels_data = pd.read_csv(labels_path)\n",
    "\n",
    "    # Clean column names\n",
    "    labels_data.columns = labels_data.columns.str.strip()\n",
    "    labels_data.rename(columns={\"Frame\": \"Frame\", \"Porosity Label\": \"Label\"}, inplace=True)\n",
    "\n",
    "    # Ensure matching frame names\n",
    "    labels_data[\"Frame\"] = labels_data[\"Frame\"].astype(str).apply(lambda x: f\"Frame_{x}.csv\")\n",
    "\n",
    "    # Merge predictions with ground truth\n",
    "    merged_data = pd.merge(dbscan_results, labels_data, on=\"Frame\", how=\"inner\")\n",
    "\n",
    "    if merged_data.shape[0] == 0:\n",
    "        print(\"Error: No matching frames between DBSCAN results and labels data!\")\n",
    "    else:\n",
    "        # Evaluate DBSCAN against labels\n",
    "        accuracy = accuracy_score(merged_data[\"Label\"], merged_data[\"Anomaly\"])\n",
    "        conf_matrix = confusion_matrix(merged_data[\"Label\"], merged_data[\"Anomaly\"])\n",
    "        classification_rep = classification_report(merged_data[\"Label\"], merged_data[\"Anomaly\"])\n",
    "\n",
    "        print(\"\\nDBSCAN Evaluation:\")\n",
    "        print(f\"Accuracy: {accuracy:.2f}\")\n",
    "        print(\"Confusion Matrix:\")\n",
    "        print(conf_matrix)\n",
    "        print(\"Classification Report:\")\n",
    "        print(classification_rep)\n"
   ]
  }
 ],
 "metadata": {
  "kernelspec": {
   "display_name": ".venv",
   "language": "python",
   "name": "python3"
  },
  "language_info": {
   "codemirror_mode": {
    "name": "ipython",
    "version": 3
   },
   "file_extension": ".py",
   "mimetype": "text/x-python",
   "name": "python",
   "nbconvert_exporter": "python",
   "pygments_lexer": "ipython3",
   "version": "3.10.16"
  }
 },
 "nbformat": 4,
 "nbformat_minor": 2
}
