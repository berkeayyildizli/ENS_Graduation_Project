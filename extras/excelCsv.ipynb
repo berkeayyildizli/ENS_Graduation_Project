{
 "cells": [
  {
   "cell_type": "code",
   "execution_count": 3,
   "metadata": {},
   "outputs": [
    {
     "name": "stdout",
     "output_type": "stream",
     "text": [
      "Excel file converted and saved as thermal-porosity-table.csv\n"
     ]
    }
   ],
   "source": [
    "import pandas as pd\n",
    "\n",
    "# Load the Excel file\n",
    "excel_file = \"/Users/berkeayyildizli/ENS_Graduation_Project/data/thermal-porosity-table.xlsx\"  # Update with the correct path if needed\n",
    "df = pd.read_excel(excel_file)\n",
    "\n",
    "# Save as CSV\n",
    "csv_file = \"thermal-porosity-table.csv\"\n",
    "df.to_csv(csv_file, index=False)\n",
    "\n",
    "print(f\"Excel file converted and saved as {csv_file}\")\n"
   ]
  }
 ],
 "metadata": {
  "kernelspec": {
   "display_name": ".venv",
   "language": "python",
   "name": "python3"
  },
  "language_info": {
   "codemirror_mode": {
    "name": "ipython",
    "version": 3
   },
   "file_extension": ".py",
   "mimetype": "text/x-python",
   "name": "python",
   "nbconvert_exporter": "python",
   "pygments_lexer": "ipython3",
   "version": "3.10.16"
  }
 },
 "nbformat": 4,
 "nbformat_minor": 2
}
