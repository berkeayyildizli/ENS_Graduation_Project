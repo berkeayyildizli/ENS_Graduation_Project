{
 "cells": [
  {
   "cell_type": "code",
   "execution_count": 2,
   "metadata": {},
   "outputs": [],
   "source": [
    "import pandas as pd"
   ]
  },
  {
   "cell_type": "code",
   "execution_count": 3,
   "metadata": {},
   "outputs": [
    {
     "name": "stdout",
     "output_type": "stream",
     "text": [
      "   Frame  Porosity Label\n",
      "0      1               1\n",
      "1      2               1\n",
      "2      3               1\n",
      "3      4               1\n",
      "4      5               1\n",
      "            Frame  Min_Temp  Max_Temp  Mean_Temp    Std_Temp  Median_Temp  \\\n",
      "0     Frame_1.csv    1351.0    1875.0  1517.2372   69.056786       1510.0   \n",
      "1    Frame_10.csv    1201.0    1719.0  1337.0065   90.501030       1301.0   \n",
      "2   Frame_100.csv    1096.0    1690.0  1274.6893  101.330040       1238.0   \n",
      "3  Frame_1000.csv    1034.0    1631.0  1185.4252   90.556770       1151.0   \n",
      "4  Frame_1001.csv    1226.0    2107.0  1360.6260  116.855620       1330.0   \n",
      "\n",
      "       Q1      Q3    IQR  Skewness   Kurtosis  High_Temp_Pixels  \\\n",
      "0  1475.0  1526.0   51.0  2.292543   6.778263              2950   \n",
      "1  1285.0  1330.0   45.0  2.086987   4.203602              3732   \n",
      "2  1213.0  1315.0  102.0  1.584653   2.368199              3642   \n",
      "3  1139.0  1217.0   78.0  1.923937   4.079686              3339   \n",
      "4  1313.0  1360.0   47.0  3.667472  14.845386              2495   \n",
      "\n",
      "   Porosity Label  \n",
      "0               1  \n",
      "1               1  \n",
      "2               0  \n",
      "3               0  \n",
      "4               1  \n",
      "✅ Labeled dataset saved as 'labeled_thermal_features.csv'.\n",
      "🚨 Frames without labels: 0\n"
     ]
    }
   ],
   "source": [
    "# Load extracted features\n",
    "features_file = \"/Users/berkeayyildizli/ENS_Graduation_Project/thermal_frame_features.csv\"\n",
    "df_features = pd.read_csv(features_file)\n",
    "\n",
    "# Load frame labels\n",
    "labels_file = \"/Users/berkeayyildizli/ENS_Graduation_Project/data/frame_porosity_labels.csv\"\n",
    "df_labels = pd.read_csv(labels_file)\n",
    "\n",
    "# Debug: Check column names of labels\n",
    "print(df_labels.head())\n",
    "\n",
    "# Ensure labels have a consistent frame naming format (convert Frame number to \"Frame_X.csv\" format)\n",
    "df_labels[\"Frame\"] = df_labels[\"Frame\"].astype(str).apply(lambda x: f\"Frame_{x}.csv\")\n",
    "\n",
    "# Merge datasets based on the \"Frame\" column\n",
    "df_merged = pd.merge(df_features, df_labels, on=\"Frame\", how=\"inner\")\n",
    "\n",
    "# Debug: Check merged data\n",
    "print(df_merged.head())\n",
    "\n",
    "# Save merged dataset for model training\n",
    "df_merged.to_csv(\"labeled_thermal_features.csv\", index=False)\n",
    "print(\"✅ Labeled dataset saved as 'labeled_thermal_features.csv'.\")\n",
    "\n",
    "# Check if any frames are missing labels\n",
    "missing_labels = df_features[~df_features[\"Frame\"].isin(df_labels[\"Frame\"])]\n",
    "print(f\"🚨 Frames without labels: {len(missing_labels)}\")\n"
   ]
  }
 ],
 "metadata": {
  "kernelspec": {
   "display_name": ".venv",
   "language": "python",
   "name": "python3"
  },
  "language_info": {
   "codemirror_mode": {
    "name": "ipython",
    "version": 3
   },
   "file_extension": ".py",
   "mimetype": "text/x-python",
   "name": "python",
   "nbconvert_exporter": "python",
   "pygments_lexer": "ipython3",
   "version": "3.10.16"
  }
 },
 "nbformat": 4,
 "nbformat_minor": 2
}
