{
 "cells": [
  {
   "cell_type": "markdown",
   "id": "d91ebb86",
   "metadata": {},
   "source": [
    "# Isolation Forest\n",
    "\n",
    "This notebook applies the Isolation Forest algorithm for semi-supervised anomaly detection in thermal images from DED processes. It isolates observations by randomly selecting features and split values, making it efficient for high-dimensional datasets.\n"
   ]
  },
  {
   "cell_type": "code",
   "execution_count": 1,
   "id": "224f74fb",
   "metadata": {},
   "outputs": [
    {
     "name": "stdout",
     "output_type": "stream",
     "text": [
      "\n",
      "✅ Isolation Forest Evaluation (Top 5 Features):\n",
      "Confusion Matrix:\n",
      " [[1475   18]\n",
      " [  18   53]]\n",
      "Classification Report:\n",
      "               precision    recall  f1-score   support\n",
      "\n",
      "           0       0.99      0.99      0.99      1493\n",
      "           1       0.75      0.75      0.75        71\n",
      "\n",
      "    accuracy                           0.98      1564\n",
      "   macro avg       0.87      0.87      0.87      1564\n",
      "weighted avg       0.98      0.98      0.98      1564\n",
      "\n",
      "F1 Score: 0.7465\n"
     ]
    }
   ],
   "source": [
    "import pandas as pd\n",
    "import numpy as np\n",
    "from sklearn.ensemble import IsolationForest\n",
    "from sklearn.preprocessing import MinMaxScaler\n",
    "from sklearn.metrics import confusion_matrix, classification_report, f1_score\n",
    "\n",
    "# Load dataset\n",
    "df = pd.read_csv(\"labeled_thermal_features.csv\")\n",
    "\n",
    "# Use correct top 5 features from the feature importance chart\n",
    "top_5_features = [\"IQR\", \"Std_Temp\", \"Q1\", \"Min_Temp\", \"Median_Temp\"]\n",
    "\n",
    "# Ensure all features exist\n",
    "missing = [col for col in top_5_features if col not in df.columns]\n",
    "if missing:\n",
    "    raise ValueError(f\"Missing expected features: {missing}\")\n",
    "\n",
    "# Prepare data\n",
    "X = df[top_5_features]\n",
    "y = df[\"Porosity Label\"]\n",
    "\n",
    "# Normalize\n",
    "scaler = MinMaxScaler()\n",
    "X_scaled = scaler.fit_transform(X)\n",
    "\n",
    "# Train only on normal samples\n",
    "X_train = X_scaled[y == 0]\n",
    "\n",
    "# Train Isolation Forest\n",
    "iso_forest = IsolationForest(n_estimators=100, contamination=0.045, random_state=42)\n",
    "iso_forest.fit(X_train)\n",
    "\n",
    "# Predict\n",
    "scores = iso_forest.decision_function(X_scaled)\n",
    "threshold = np.percentile(scores, 4.5)\n",
    "anomaly_predictions = (scores < threshold).astype(int)\n",
    "\n",
    "# Evaluate\n",
    "conf_matrix = confusion_matrix(y, anomaly_predictions)\n",
    "report = classification_report(y, anomaly_predictions)\n",
    "f1 = f1_score(y, anomaly_predictions)\n",
    "\n",
    "print(\"\\n✅ Isolation Forest Evaluation (Top 5 Features):\")\n",
    "print(\"Confusion Matrix:\\n\", conf_matrix)\n",
    "print(\"Classification Report:\\n\", report)\n",
    "print(f\"F1 Score: {f1:.4f}\")\n"
   ]
  }
 ],
 "metadata": {
  "kernelspec": {
   "display_name": ".venv",
   "language": "python",
   "name": "python3"
  },
  "language_info": {
   "codemirror_mode": {
    "name": "ipython",
    "version": 3
   },
   "file_extension": ".py",
   "mimetype": "text/x-python",
   "name": "python",
   "nbconvert_exporter": "python",
   "pygments_lexer": "ipython3",
   "version": "3.10.16"
  }
 },
 "nbformat": 4,
 "nbformat_minor": 5
}
