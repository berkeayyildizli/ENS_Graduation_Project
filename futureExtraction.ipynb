{
 "cells": [
  {
   "cell_type": "code",
   "execution_count": 1,
   "metadata": {},
   "outputs": [],
   "source": [
    "import os\n",
    "import pandas as pd\n",
    "import numpy as np\n",
    "from scipy.stats import skew, kurtosis\n",
    "from sklearn.preprocessing import MinMaxScaler\n",
    "from sklearn.impute import SimpleImputer"
   ]
  },
  {
   "cell_type": "code",
   "execution_count": 2,
   "metadata": {},
   "outputs": [
    {
     "name": "stdout",
     "output_type": "stream",
     "text": [
      "Total Frames Found: 1564\n",
      "            Frame  Min_Temp  Max_Temp    Mean_Temp    Std_Temp  Median_Temp  \\\n",
      "0     Frame_1.csv    1351.0    1875.0  1517.221680   69.055878       1510.0   \n",
      "1    Frame_10.csv    1201.0    1719.0  1336.949829   90.495499       1301.0   \n",
      "2   Frame_100.csv    1096.0    1690.0  1274.625977  101.334846       1238.0   \n",
      "3  Frame_1000.csv    1034.0    1631.0  1185.342651   90.553833       1151.0   \n",
      "4  Frame_1001.csv    1226.0    2107.0  1360.540894  116.824043       1330.0   \n",
      "\n",
      "       Q1      Q3    IQR  Skewness   Kurtosis  High_Temp_Pixels  \n",
      "0  1475.0  1526.0   51.0  2.292498   6.778652              2950  \n",
      "1  1285.0  1330.0   45.0  2.086964   4.205517              3732  \n",
      "2  1213.0  1315.0  102.0  1.584581   2.368822              3642  \n",
      "3  1139.0  1217.0   78.0  1.923829   4.081294              3339  \n",
      "4  1313.0  1360.0   47.0  3.668308  14.856552              2495  \n",
      "✅ Debug Feature extraction completed. Check 'thermal_frame_features.csv'.\n"
     ]
    }
   ],
   "source": [
    "import os\n",
    "import pandas as pd\n",
    "import numpy as np\n",
    "\n",
    "# Path to frame directory (update if needed)\n",
    "frames_dir = \"/Users/berkeayyildizli/ENS_Graduation_Project/data/images\"\n",
    "frame_files = sorted([f for f in os.listdir(frames_dir) if f.startswith(\"Frame_\") and f.endswith(\".csv\")])\n",
    "\n",
    "# Initialize list to store features\n",
    "feature_list = []\n",
    "\n",
    "# Debug: Check how many frames are found\n",
    "print(f\"Total Frames Found: {len(frame_files)}\")\n",
    "\n",
    "for file_name in frame_files:\n",
    "    file_path = os.path.join(frames_dir, file_name)\n",
    "    frame_data = pd.read_csv(file_path, header=None)\n",
    "\n",
    "    # Check for empty frames\n",
    "    if frame_data.shape[0] == 0 or frame_data.shape[1] == 0:\n",
    "        print(f\"🚨 Skipping {file_name} - Empty frame!\")\n",
    "        continue\n",
    "\n",
    "    # Convert to numpy array\n",
    "    frame_np = frame_data.to_numpy(dtype=np.float32)\n",
    "\n",
    "    # Replace zeros with NaNs\n",
    "    frame_np[frame_np == 0] = np.nan\n",
    "\n",
    "    # Mean imputation (column-wise)\n",
    "    imputer = SimpleImputer(strategy=\"mean\")\n",
    "    frame_np_imputed = imputer.fit_transform(frame_np)\n",
    "\n",
    "    # Compute statistical features on imputed data\n",
    "    min_temp = np.min(frame_np_imputed)\n",
    "    max_temp = np.max(frame_np_imputed)\n",
    "    mean_temp = np.mean(frame_np_imputed)\n",
    "    std_temp = np.std(frame_np_imputed)\n",
    "    median_temp = np.median(frame_np_imputed)\n",
    "    q1 = np.percentile(frame_np_imputed, 25)\n",
    "    q3 = np.percentile(frame_np_imputed, 75)\n",
    "    iqr = q3 - q1\n",
    "    skewness = pd.DataFrame(frame_np_imputed.flatten()).skew()[0]\n",
    "    kurtosis = pd.DataFrame(frame_np_imputed.flatten()).kurt()[0]\n",
    "    high_temp_pixels = np.sum(frame_np_imputed > mean_temp + 1.5 * std_temp)\n",
    "\n",
    "    # Append features\n",
    "    feature_list.append([\n",
    "        file_name, min_temp, max_temp, mean_temp, std_temp, median_temp, \n",
    "        q1, q3, iqr, skewness, kurtosis, high_temp_pixels\n",
    "    ])\n",
    "\n",
    "# Create DataFrame\n",
    "feature_columns = [\"Frame\", \"Min_Temp\", \"Max_Temp\", \"Mean_Temp\", \"Std_Temp\", \"Median_Temp\", \"Q1\", \"Q3\", \"IQR\", \"Skewness\", \"Kurtosis\", \"High_Temp_Pixels\"]\n",
    "df_features = pd.DataFrame(feature_list, columns=feature_columns)\n",
    "\n",
    "# Debug: Show the first few extracted features\n",
    "print(df_features.head())\n",
    "\n",
    "# Save as CSV\n",
    "df_features.to_csv(\"thermal_frame_features.csv\", index=False)\n",
    "print(\"✅ Debug Feature extraction completed. Check 'thermal_frame_features.csv'.\")\n"
   ]
  }
 ],
 "metadata": {
  "kernelspec": {
   "display_name": ".venv",
   "language": "python",
   "name": "python3"
  },
  "language_info": {
   "codemirror_mode": {
    "name": "ipython",
    "version": 3
   },
   "file_extension": ".py",
   "mimetype": "text/x-python",
   "name": "python",
   "nbconvert_exporter": "python",
   "pygments_lexer": "ipython3",
   "version": "3.10.16"
  }
 },
 "nbformat": 4,
 "nbformat_minor": 2
}
