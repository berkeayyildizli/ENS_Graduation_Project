{
 "cells": [
  {
   "cell_type": "code",
   "execution_count": 1,
   "metadata": {},
   "outputs": [],
   "source": [
    "import pandas as pd\n",
    "from sklearn.ensemble import IsolationForest\n",
    "from sklearn.metrics import classification_report, confusion_matrix"
   ]
  },
  {
   "cell_type": "code",
   "execution_count": 21,
   "metadata": {},
   "outputs": [
    {
     "name": "stdout",
     "output_type": "stream",
     "text": [
      "\n",
      "Isolation Forest Evaluation:\n",
      "Confusion Matrix:\n",
      " [[1466   27]\n",
      " [  19   52]]\n",
      "Classification Report:\n",
      "               precision    recall  f1-score   support\n",
      "\n",
      "           0       0.99      0.98      0.98      1493\n",
      "           1       0.66      0.73      0.69        71\n",
      "\n",
      "    accuracy                           0.97      1564\n",
      "   macro avg       0.82      0.86      0.84      1564\n",
      "weighted avg       0.97      0.97      0.97      1564\n",
      "\n"
     ]
    }
   ],
   "source": [
    "# Load dataset\n",
    "df = pd.read_csv(\"labeled_thermal_features.csv\")\n",
    "\n",
    "# Drop the 'Frame' column since it's not a numerical feature\n",
    "X = df.drop(columns=[\"Frame\", \"Porosity Label\"])  # Keep only numerical features\n",
    "y = df[\"Porosity Label\"]  # Only for evaluation, not used in training\n",
    "\n",
    "# Initialize Isolation Forest\n",
    "iso_forest = IsolationForest(n_estimators=100, contamination=0.05, random_state=42)\n",
    "iso_forest.fit(X)\n",
    "\n",
    "# Predict anomalies (-1 = anomaly, 1 = normal)\n",
    "predictions = iso_forest.predict(X)\n",
    "anomaly_predictions = (predictions == -1).astype(int)  # Convert -1 to 1 (anomaly), 1 to 0 (normal)\n",
    "\n",
    "# Evaluate results\n",
    "print(\"\\nIsolation Forest Evaluation:\")\n",
    "print(\"Confusion Matrix:\\n\", confusion_matrix(y, anomaly_predictions))\n",
    "print(\"Classification Report:\\n\", classification_report(y, anomaly_predictions))\n"
   ]
  }
 ],
 "metadata": {
  "kernelspec": {
   "display_name": ".venv",
   "language": "python",
   "name": "python3"
  },
  "language_info": {
   "codemirror_mode": {
    "name": "ipython",
    "version": 3
   },
   "file_extension": ".py",
   "mimetype": "text/x-python",
   "name": "python",
   "nbconvert_exporter": "python",
   "pygments_lexer": "ipython3",
   "version": "3.10.16"
  }
 },
 "nbformat": 4,
 "nbformat_minor": 2
}
