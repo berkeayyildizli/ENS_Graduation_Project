{
 "cells": [
  {
   "cell_type": "code",
   "execution_count": 1,
   "metadata": {},
   "outputs": [],
   "source": [
    "import os\n",
    "import pandas as pd"
   ]
  },
  {
   "cell_type": "code",
   "execution_count": 2,
   "metadata": {},
   "outputs": [
    {
     "name": "stdout",
     "output_type": "stream",
     "text": [
      "✅ All frames processed. First row and first column removed successfully.\n"
     ]
    }
   ],
   "source": [
    "\n",
    "\n",
    "# Define the path to the frames directory\n",
    "frames_dir = \"/Users/berkeayyildizli/ENS_Graduation_Project/data/images\"\n",
    "\n",
    "# Get the list of frame CSV files\n",
    "frame_files = sorted([f for f in os.listdir(frames_dir) if f.startswith(\"Frame_\") and f.endswith(\".csv\")])\n",
    "\n",
    "# Process each frame file\n",
    "for file_name in frame_files:\n",
    "    file_path = os.path.join(frames_dir, file_name)\n",
    "\n",
    "    # Read the CSV file\n",
    "    frame_data = pd.read_csv(file_path, header=None)\n",
    "\n",
    "    # Drop the first row and first column\n",
    "    frame_data_cleaned = frame_data.iloc[1:, 1:]\n",
    "\n",
    "    # Save the cleaned file (overwrite)\n",
    "    frame_data_cleaned.to_csv(file_path, index=False, header=False)\n",
    "\n",
    "print(\"✅ All frames processed. First row and first column removed successfully.\")\n"
   ]
  },
  {
   "cell_type": "code",
   "execution_count": 2,
   "metadata": {},
   "outputs": [
    {
     "name": "stdout",
     "output_type": "stream",
     "text": [
      "✅ Last row removed from all frames successfully.\n"
     ]
    }
   ],
   "source": [
    "import os\n",
    "import pandas as pd\n",
    "\n",
    "# Define the path to the frames directory\n",
    "frames_dir = \"/Users/berkeayyildizli/ENS_Graduation_Project/data/images\"\n",
    "\n",
    "# Get the list of frame CSV files\n",
    "frame_files = sorted([f for f in os.listdir(frames_dir) if f.startswith(\"Frame_\") and f.endswith(\".csv\")])\n",
    "\n",
    "# Process each frame file\n",
    "for file_name in frame_files:\n",
    "    file_path = os.path.join(frames_dir, file_name)\n",
    "\n",
    "    # Read the CSV file\n",
    "    frame_data = pd.read_csv(file_path, header=None)\n",
    "\n",
    "    # Drop the last row\n",
    "    frame_data_cleaned = frame_data.iloc[:-1, :]  # Removes the last row\n",
    "\n",
    "    # Save the cleaned file (overwrite)\n",
    "    frame_data_cleaned.to_csv(file_path, index=False, header=False)\n",
    "\n",
    "print(\"✅ Last row removed from all frames successfully.\")\n"
   ]
  }
 ],
 "metadata": {
  "kernelspec": {
   "display_name": ".venv",
   "language": "python",
   "name": "python3"
  },
  "language_info": {
   "codemirror_mode": {
    "name": "ipython",
    "version": 3
   },
   "file_extension": ".py",
   "mimetype": "text/x-python",
   "name": "python",
   "nbconvert_exporter": "python",
   "pygments_lexer": "ipython3",
   "version": "3.10.16"
  }
 },
 "nbformat": 4,
 "nbformat_minor": 2
}
