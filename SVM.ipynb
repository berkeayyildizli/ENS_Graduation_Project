{
 "cells": [
  {
   "cell_type": "code",
   "execution_count": 1,
   "metadata": {},
   "outputs": [],
   "source": [
    "import pandas as pd\n",
    "import numpy as np\n",
    "from sklearn.svm import OneClassSVM\n",
    "from sklearn.metrics import classification_report, confusion_matrix\n",
    "from sklearn.preprocessing import StandardScaler"
   ]
  },
  {
   "cell_type": "code",
   "execution_count": 9,
   "metadata": {},
   "outputs": [
    {
     "name": "stdout",
     "output_type": "stream",
     "text": [
      "\n",
      "One-Class SVM Evaluation:\n",
      "Confusion Matrix:\n",
      " [[1451   42]\n",
      " [  36   35]]\n",
      "Classification Report:\n",
      "               precision    recall  f1-score   support\n",
      "\n",
      "           0       0.98      0.97      0.97      1493\n",
      "           1       0.45      0.49      0.47        71\n",
      "\n",
      "    accuracy                           0.95      1564\n",
      "   macro avg       0.72      0.73      0.72      1564\n",
      "weighted avg       0.95      0.95      0.95      1564\n",
      "\n"
     ]
    }
   ],
   "source": [
    "# Load dataset\n",
    "df = pd.read_csv(\"labeled_thermal_features.csv\")\n",
    "\n",
    "# Drop the 'Frame' column since it's not a numerical feature\n",
    "X = df.drop(columns=[\"Frame\", \"Porosity Label\"])  # Keep only numerical features\n",
    "y = df[\"Porosity Label\"]  # Only for evaluation, not used in training\n",
    "\n",
    "# Normalize data\n",
    "scaler = StandardScaler()\n",
    "X_scaled = scaler.fit_transform(X)\n",
    "\n",
    "# Initialize One-Class SVM\n",
    "svm_model = OneClassSVM(kernel=\"rbf\", nu=0.05, gamma=\"auto\")  # nu ~ fraction of expected anomalies\n",
    "svm_model.fit(X_scaled)\n",
    "\n",
    "# Predict anomalies (-1 = anomaly, 1 = normal)\n",
    "predictions = svm_model.predict(X_scaled)\n",
    "\n",
    "# Convert to match labels (1 = anomaly, 0 = normal)\n",
    "anomaly_predictions = (predictions == -1).astype(int)\n",
    "\n",
    "# Evaluate results\n",
    "print(\"\\nOne-Class SVM Evaluation:\")\n",
    "print(\"Confusion Matrix:\\n\", confusion_matrix(y, anomaly_predictions))\n",
    "print(\"Classification Report:\\n\", classification_report(y, anomaly_predictions))\n"
   ]
  }
 ],
 "metadata": {
  "kernelspec": {
   "display_name": ".venv",
   "language": "python",
   "name": "python3"
  },
  "language_info": {
   "codemirror_mode": {
    "name": "ipython",
    "version": 3
   },
   "file_extension": ".py",
   "mimetype": "text/x-python",
   "name": "python",
   "nbconvert_exporter": "python",
   "pygments_lexer": "ipython3",
   "version": "3.10.16"
  }
 },
 "nbformat": 4,
 "nbformat_minor": 2
}
