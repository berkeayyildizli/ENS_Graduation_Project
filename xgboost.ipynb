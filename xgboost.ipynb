{
 "cells": [
  {
   "cell_type": "code",
   "execution_count": 1,
   "metadata": {},
   "outputs": [],
   "source": [
    "import pandas as pd\n",
    "import numpy as np\n",
    "import xgboost as xgb\n",
    "from sklearn.model_selection import train_test_split\n",
    "from sklearn.metrics import accuracy_score, classification_report, confusion_matrix\n",
    "from imblearn.over_sampling import SMOTE\n",
    "from sklearn.feature_selection import SelectFromModel"
   ]
  },
  {
   "cell_type": "code",
   "execution_count": 2,
   "metadata": {},
   "outputs": [
    {
     "name": "stdout",
     "output_type": "stream",
     "text": [
      "Class distribution after SMOTE:\n",
      "Porosity Label\n",
      "0    1194\n",
      "1     238\n",
      "Name: count, dtype: int64\n",
      "\n",
      "XGBoost Model Evaluation:\n",
      "Accuracy: 1.00\n",
      "Confusion Matrix:\n",
      "[[299   0]\n",
      " [  0  14]]\n",
      "Classification Report:\n",
      "              precision    recall  f1-score   support\n",
      "\n",
      "           0       1.00      1.00      1.00       299\n",
      "           1       1.00      1.00      1.00        14\n",
      "\n",
      "    accuracy                           1.00       313\n",
      "   macro avg       1.00      1.00      1.00       313\n",
      "weighted avg       1.00      1.00      1.00       313\n",
      "\n",
      "XGBoost model saved as 'xgboost_anomaly_model_smote_feature_selection.json'\n"
     ]
    },
    {
     "name": "stderr",
     "output_type": "stream",
     "text": [
      "/Users/berkeayyildizli/ENS_Graduation_Project/.venv/lib/python3.10/site-packages/xgboost/training.py:183: UserWarning: [17:55:36] WARNING: /Users/runner/work/xgboost/xgboost/src/learner.cc:738: \n",
      "Parameters: { \"use_label_encoder\" } are not used.\n",
      "\n",
      "  bst.update(dtrain, iteration=i, fobj=obj)\n",
      "/Users/berkeayyildizli/ENS_Graduation_Project/.venv/lib/python3.10/site-packages/sklearn/utils/validation.py:2732: UserWarning: X has feature names, but SelectFromModel was fitted without feature names\n",
      "  warnings.warn(\n",
      "/Users/berkeayyildizli/ENS_Graduation_Project/.venv/lib/python3.10/site-packages/sklearn/utils/validation.py:2732: UserWarning: X has feature names, but SelectFromModel was fitted without feature names\n",
      "  warnings.warn(\n",
      "/Users/berkeayyildizli/ENS_Graduation_Project/.venv/lib/python3.10/site-packages/xgboost/training.py:183: UserWarning: [17:55:36] WARNING: /Users/runner/work/xgboost/xgboost/src/learner.cc:738: \n",
      "Parameters: { \"use_label_encoder\" } are not used.\n",
      "\n",
      "  bst.update(dtrain, iteration=i, fobj=obj)\n"
     ]
    }
   ],
   "source": [
    "# Load the dataset\n",
    "csv_file = \"data/thermal-porosity-table.csv\"  \n",
    "df = pd.read_csv(csv_file)\n",
    "\n",
    "# Separate features (X) and labels (y)\n",
    "X = df.drop(columns=[\"Porosity Label\"])  \n",
    "y = df[\"Porosity Label\"]\n",
    "\n",
    "# Split data into training (80%) and testing (20%)\n",
    "X_train, X_test, y_train, y_test = train_test_split(\n",
    "    X, y, test_size=0.2, random_state=42, stratify=y\n",
    ")\n",
    "\n",
    "# Apply SMOTE to balance the dataset\n",
    "smote = SMOTE(sampling_strategy=0.2, random_state=42)  # Increase anomalies to ~20%\n",
    "X_train_resampled, y_train_resampled = smote.fit_resample(X_train, y_train)\n",
    "\n",
    "# Verify class distribution after SMOTE\n",
    "print(\"Class distribution after SMOTE:\")\n",
    "print(pd.Series(y_train_resampled).value_counts())\n",
    "\n",
    "# Initialize XGBoost classifier\n",
    "xgb_classifier = xgb.XGBClassifier(\n",
    "    objective=\"binary:logistic\",\n",
    "    eval_metric=\"logloss\",\n",
    "    use_label_encoder=False,\n",
    "    n_estimators=100,\n",
    "    learning_rate=0.05,  # Reduce learning rate\n",
    "    max_depth=3,  # Reduce complexity\n",
    "    subsample=0.7,  # Reduce overfitting\n",
    "    colsample_bytree=0.7,\n",
    "    reg_lambda=1,  # Add regularization\n",
    "    reg_alpha=0.5,\n",
    "    random_state=42\n",
    ")\n",
    "\n",
    "# Train the model on the resampled data\n",
    "xgb_classifier.fit(X_train_resampled, y_train_resampled)\n",
    "\n",
    "# Apply Feature Selection\n",
    "selector = SelectFromModel(xgb_classifier, threshold=\"mean\", prefit=True)\n",
    "X_train_selected = selector.transform(X_train_resampled)\n",
    "X_test_selected = selector.transform(X_test)\n",
    "\n",
    "# Train the model again with selected features\n",
    "xgb_classifier.fit(X_train_selected, y_train_resampled)\n",
    "\n",
    "# Make predictions\n",
    "y_pred = xgb_classifier.predict(X_test_selected)\n",
    "\n",
    "# Evaluate model performance\n",
    "accuracy = accuracy_score(y_test, y_pred)\n",
    "conf_matrix = confusion_matrix(y_test, y_pred)\n",
    "classification_rep = classification_report(y_test, y_pred)\n",
    "\n",
    "# Print evaluation results\n",
    "print(\"\\nXGBoost Model Evaluation:\")\n",
    "print(f\"Accuracy: {accuracy:.2f}\")\n",
    "print(\"Confusion Matrix:\")\n",
    "print(conf_matrix)\n",
    "print(\"Classification Report:\")\n",
    "print(classification_rep)\n",
    "\n",
    "# Optional: Save model\n",
    "xgb_classifier.save_model(\"xgboost_anomaly_model_smote_feature_selection.json\")\n",
    "print(\"XGBoost model saved as 'xgboost_anomaly_model_smote_feature_selection.json'\")\n"
   ]
  },
  {
   "cell_type": "code",
   "execution_count": 3,
   "metadata": {},
   "outputs": [
    {
     "name": "stdout",
     "output_type": "stream",
     "text": [
      "Dataset Shape: (1564, 12)\n"
     ]
    }
   ],
   "source": [
    "print(f\"Dataset Shape: {df.shape}\")  # Should be (1564, N) if all frames are included\n"
   ]
  },
  {
   "cell_type": "code",
   "execution_count": 4,
   "metadata": {},
   "outputs": [
    {
     "name": "stdout",
     "output_type": "stream",
     "text": [
      "Missing Labels: 0\n"
     ]
    }
   ],
   "source": [
    "print(\"Missing Labels:\", df[\"Porosity Label\"].isna().sum())  # Should be 0\n"
   ]
  },
  {
   "cell_type": "code",
   "execution_count": 5,
   "metadata": {},
   "outputs": [
    {
     "name": "stdout",
     "output_type": "stream",
     "text": [
      "Porosity Label\n",
      "0    1493\n",
      "1      71\n",
      "Name: count, dtype: int64\n"
     ]
    }
   ],
   "source": [
    "print(df[\"Porosity Label\"].value_counts())  # Should show how many 0s and 1s exist\n"
   ]
  },
  {
   "cell_type": "code",
   "execution_count": 6,
   "metadata": {},
   "outputs": [
    {
     "name": "stdout",
     "output_type": "stream",
     "text": [
      "Train set size: 1251\n",
      "Test set size: 313\n"
     ]
    }
   ],
   "source": [
    "X_train, X_test, y_train, y_test = train_test_split(\n",
    "    X, y, test_size=0.2, random_state=42, stratify=y\n",
    ")\n",
    "\n",
    "print(f\"Train set size: {X_train.shape[0]}\")\n",
    "print(f\"Test set size: {X_test.shape[0]}\")\n"
   ]
  }
 ],
 "metadata": {
  "kernelspec": {
   "display_name": ".venv",
   "language": "python",
   "name": "python3"
  },
  "language_info": {
   "codemirror_mode": {
    "name": "ipython",
    "version": 3
   },
   "file_extension": ".py",
   "mimetype": "text/x-python",
   "name": "python",
   "nbconvert_exporter": "python",
   "pygments_lexer": "ipython3",
   "version": "3.10.16"
  }
 },
 "nbformat": 4,
 "nbformat_minor": 2
}
